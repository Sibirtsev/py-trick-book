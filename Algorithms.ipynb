{
 "metadata": {
  "name": "",
  "signature": "sha256:7ca1ddaa03ea38354d94cd0ff766ca9001a5d022c83e9aa9abd662e662b3912a"
 },
 "nbformat": 3,
 "nbformat_minor": 0,
 "worksheets": [
  {
   "cells": [
    {
     "cell_type": "code",
     "collapsed": false,
     "input": [
      "#Newton Raphson method of finding a square root of the given number\n",
      "  ## Search for pattern 'iii' in string 'piiig'.\n",
      "  ## All of the pattern must match, but it may appear anywhere.\n",
      "  ## On success, match.group() is matched text.\n",
      "import re\n",
      "match = re.search(r'iii', 'piiig') #  found, match.group() == \"iii\"\n",
      "match = re.search(r'igs', 'piiig') #  not found, match == None\n",
      "\n",
      "  ## . = any char but \\n\n",
      "match = re.search(r'..g', 'piiig') # found, match.group() == \"iig\"\n",
      "\n",
      "  ## \\d = digit char, \\w = word char\n",
      "match = re.search(r'\\d\\d\\d', 'p123g') # found, match.group() == \"123\"\n",
      "match = re.search(r'\\w\\w\\w', '@@abcd!!') #  found, match.group() == \"abc\""
     ],
     "language": "python",
     "metadata": {},
     "outputs": [],
     "prompt_number": 4
    },
    {
     "cell_type": "code",
     "collapsed": false,
     "input": [
      "\n"
     ],
     "language": "python",
     "metadata": {},
     "outputs": []
    }
   ],
   "metadata": {}
  }
 ]
}