{
 "metadata": {
  "name": ""
 },
 "nbformat": 3,
 "nbformat_minor": 0,
 "worksheets": [
  {
   "cells": [
    {
     "cell_type": "markdown",
     "metadata": {},
     "source": [
      "##Lets take a look on magic methods."
     ]
    },
    {
     "cell_type": "code",
     "collapsed": false,
     "input": [
      "\"\"\"\n",
      "  __call__ methods allows the object to be get called\n",
      "   as a function.\n",
      "\"\"\"\n",
      "class funky:\n",
      "    def __call__(self):\n",
      "        print \"hello\"\n",
      "f = funky()\n",
      "f()"
     ],
     "language": "python",
     "metadata": {},
     "outputs": [
      {
       "output_type": "stream",
       "stream": "stdout",
       "text": [
        "hello\n"
       ]
      }
     ],
     "prompt_number": 5
    },
    {
     "cell_type": "code",
     "collapsed": false,
     "input": [
      "class DeclarativeMeta(type):\n",
      "    def __new__(meta, class_name, bases, new_attrs):\n",
      "        cls = type.__new__(meta, class_name, bases, new_attrs)\n",
      "        cls.__classinit__.im_func(cls, new_attrs)\n",
      "        return cls\n",
      "class Declarative(object):\n",
      "    __metaclass__ = DeclarativeMeta\n",
      "    def __classinit__(cls, new_attrs): \n",
      "        pass\n",
      "    \n",
      "class Schema(Declarative):\n",
      "    a=2\n",
      "    b=3\n"
     ],
     "language": "python",
     "metadata": {},
     "outputs": [
      {
       "output_type": "stream",
       "stream": "stdout",
       "text": [
        "__main__\n",
        "<function __classinit__ at 0xb283f6bc>\n",
        "<class '__main__.DeclarativeMeta'>\n",
        "2\n",
        "__main__\n",
        "3\n"
       ]
      }
     ],
     "prompt_number": 16
    },
    {
     "cell_type": "code",
     "collapsed": false,
     "input": [
      "class BaseMeta(type):\n",
      "    @classmethod\n",
      "    def printhello(cls):\n",
      "        print \"hello\"\n",
      "    def __new__(cls,name,bases,new_attr):\n",
      "        fields = []\n",
      "        for attr in new_attr:\n",
      "            if attr.startswith('__'):\n",
      "                continue\n",
      "            print attr,\"=\",new_attr[attr]\n",
      "        new_attr['printhello'] = BaseMeta.printhello\n",
      "        return super(BaseMeta,cls).__new__(cls,name,bases,new_attr)\n",
      "class Base(object):\n",
      "    __metaclass__ = BaseMeta\n",
      "class User(Base):\n",
      "    name = \"sathya\"\n",
      "    age = 21\n",
      "\n",
      "u = User()\n",
      "isinstance(u,Base)\n",
      "    "
     ],
     "language": "python",
     "metadata": {},
     "outputs": [
      {
       "output_type": "stream",
       "stream": "stdout",
       "text": [
        "age = 21\n",
        "name = sathya\n"
       ]
      },
      {
       "metadata": {},
       "output_type": "pyout",
       "prompt_number": 38,
       "text": [
        "True"
       ]
      }
     ],
     "prompt_number": 38
    },
    {
     "cell_type": "code",
     "collapsed": false,
     "input": [
      "class BaseMeta(type):\n",
      "    def __new__(cls,name,bases,new_attr):\n",
      "        return super(BaseMeta,cls).__new__(cls,name,bases,new_attr)\n",
      "    @classmethod\n",
      "    def printattr(cls):\n",
      "        print \"hello\""
     ],
     "language": "python",
     "metadata": {},
     "outputs": []
    }
   ],
   "metadata": {}
  }
 ]
}