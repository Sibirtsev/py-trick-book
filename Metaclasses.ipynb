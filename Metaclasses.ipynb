{
 "metadata": {
  "name": ""
 },
 "nbformat": 3,
 "nbformat_minor": 0,
 "worksheets": [
  {
   "cells": [
    {
     "cell_type": "markdown",
     "metadata": {},
     "source": [
      "##Lets take a look on magic methods."
     ]
    },
    {
     "cell_type": "code",
     "collapsed": false,
     "input": [
      "\"\"\"\n",
      "  __call__ methods allows the object to be get called\n",
      "   as a function.\n",
      "\"\"\"\n",
      "class funky:\n",
      "    def __call__(self):\n",
      "        print \"hello\"\n",
      "f = funky()\n",
      "f()"
     ],
     "language": "python",
     "metadata": {},
     "outputs": [
      {
       "output_type": "stream",
       "stream": "stdout",
       "text": [
        "hello\n"
       ]
      }
     ],
     "prompt_number": 5
    },
    {
     "cell_type": "code",
     "collapsed": false,
     "input": [
      "class DeclarativeMeta(type):\n",
      "    def __new__(meta, class_name, bases, new_attrs):\n",
      "        cls = type.__new__(meta, class_name, bases, new_attrs)\n",
      "        cls.__classinit__.im_func(cls, new_attrs)\n",
      "        return cls\n",
      "class Declarative(object):\n",
      "    __metaclass__ = DeclarativeMeta\n",
      "    def __classinit__(cls, new_attrs): \n",
      "        pass\n",
      "    \n",
      "class Schema(Declarative):\n",
      "    a=2\n",
      "    b=3\n"
     ],
     "language": "python",
     "metadata": {},
     "outputs": [
      {
       "output_type": "stream",
       "stream": "stdout",
       "text": [
        "__main__\n",
        "<function __classinit__ at 0xb283f6bc>\n",
        "<class '__main__.DeclarativeMeta'>\n",
        "2\n",
        "__main__\n",
        "3\n"
       ]
      }
     ],
     "prompt_number": 16
    },
    {
     "cell_type": "code",
     "collapsed": false,
     "input": [
      "class BaseMeta(type):\n",
      "    @classmethod\n",
      "    def printhello(cls):\n",
      "        print \"hello\"\n",
      "    def __new__(cls,name,bases,new_attr):\n",
      "        fields = []\n",
      "        cls.attrs = new_attr\n",
      "        for attr in new_attr:\n",
      "            if attr.startswith('__'):\n",
      "                continue\n",
      "            print attr,\"=\",new_attr[attr]\n",
      "        new_attr['printhello'] = BaseMeta.printhello\n",
      "        return super(BaseMeta,cls).__new__(cls,name,bases,new_attr)\n",
      "class Base(object):\n",
      "    __metaclass__ = BaseMeta\n",
      "    @classmethod\n",
      "    def printattrs(cls):\n",
      "        print cls.attrs\n",
      "        \n",
      "class User(Base):\n",
      "    name = \"sathya\"\n",
      "    age = 21\n",
      "\n",
      "u = User()\n",
      "u.printattrs()\n",
      "isinstance(u,Base)\n",
      "    "
     ],
     "language": "python",
     "metadata": {},
     "outputs": [
      {
       "output_type": "stream",
       "stream": "stdout",
       "text": [
        "printattrs = <classmethod object at 0xb64d5d04>\n",
        "age = 21\n",
        "name = sathya\n",
        "{'age': 21, '__module__': '__main__', 'name': 'sathya', 'printhello': <bound method type.printhello of <class '__main__.BaseMeta'>>}\n"
       ]
      },
      {
       "metadata": {},
       "output_type": "pyout",
       "prompt_number": 6,
       "text": [
        "True"
       ]
      }
     ],
     "prompt_number": 6
    },
    {
     "cell_type": "code",
     "collapsed": false,
     "input": [
      "class Hello(object):\n",
      "    def __init__(self,val):\n",
      "        self.value = val\n",
      "    def __get__(self,instance,owner):\n",
      "        return self.value\n",
      "    def __set__(self,instance,value):\n",
      "        self.value = value\n",
      "\n",
      "h = Hello(0)\n",
      "g= Hello(3)\n",
      "\n",
      "print h.value\n",
      "print g.value"
     ],
     "language": "python",
     "metadata": {},
     "outputs": [
      {
       "output_type": "stream",
       "stream": "stdout",
       "text": [
        "0\n",
        "3\n"
       ]
      }
     ],
     "prompt_number": 49
    },
    {
     "cell_type": "code",
     "collapsed": false,
     "input": [
      "class Property(object):\n",
      "    \"\"\"\n",
      "      An abstract class for Defining the all other properties.\n",
      "    \"\"\"\n",
      "    def _validate(self, value):\n",
      "        \"\"\"\n",
      "          Used to validate the input value\n",
      "        :param value: value is data that is been got from the user\n",
      "        :return:\n",
      "        \"\"\"\n",
      "        pass\n",
      "\n",
      "    def _store_to_mongo(self, value):\n",
      "        \"\"\"\n",
      "          This method is used to store a value\n",
      "        :param value:\n",
      "        :return:\n",
      "        \"\"\"\n",
      "        return str(value)\n",
      "\n",
      "    def _get_from_mongo(self, value):\n",
      "        \"\"\"\n",
      "          This value gets the data from mongo and returns different format\n",
      "        :param value:\n",
      "        :return:\n",
      "        \"\"\"\n",
      "        return str(value)\n",
      "\n",
      "    def __get__(self, instance, owner):\n",
      "        \"\"\"\n",
      "        Used to assign to a property such that it can be used as a property\n",
      "        descriptor\n",
      "        :param instance: current instance\n",
      "        :param owner:\n",
      "        :return:\n",
      "        \"\"\"\n",
      "        return self.value\n",
      "\n",
      "    def __set__(self, instance, value):\n",
      "        self.value = value\n",
      "\n",
      "\n",
      "\n",
      "class StringData(Property):\n",
      "    \"\"\"\n",
      "       This is Used to represent a string property\n",
      "    \"\"\"\n",
      "    def __init__(self):\n",
      "        self._value = \"\"\n",
      "\n",
      "    def _validate(self, value):\n",
      "        \"\"\"\n",
      "        Used to validate a string object\n",
      "        :param value:\n",
      "        :return:\n",
      "        \"\"\"\n",
      "        if not isinstance(value, str):\n",
      "            raise TypeError(\"String data is not assigned to string Field\")\n",
      "\n",
      "    @property\n",
      "    def value(self):\n",
      "        return str(self._value)\n",
      "\n",
      "    @value.setter\n",
      "    def value(self, value):\n",
      "        print value\n",
      "        self._validate(value)\n",
      "        self._value = value\n"
     ],
     "language": "python",
     "metadata": {},
     "outputs": [],
     "prompt_number": 53
    },
    {
     "cell_type": "code",
     "collapsed": false,
     "input": [
      "class Person(object):\n",
      "    s = StringData()\n",
      "p = Person()\n",
      "p.s = 2"
     ],
     "language": "python",
     "metadata": {},
     "outputs": [
      {
       "ename": "TypeError",
       "evalue": "String data is not assigned to string Field",
       "output_type": "pyerr",
       "traceback": [
        "\u001b[0;31m---------------------------------------------------------------------------\u001b[0m\n\u001b[0;31mTypeError\u001b[0m                                 Traceback (most recent call last)",
        "\u001b[0;32m<ipython-input-61-4b95c62af43f>\u001b[0m in \u001b[0;36m<module>\u001b[0;34m()\u001b[0m\n\u001b[1;32m      2\u001b[0m     \u001b[0ms\u001b[0m \u001b[0;34m=\u001b[0m \u001b[0mStringData\u001b[0m\u001b[0;34m(\u001b[0m\u001b[0;34m)\u001b[0m\u001b[0;34m\u001b[0m\u001b[0m\n\u001b[1;32m      3\u001b[0m \u001b[0mp\u001b[0m \u001b[0;34m=\u001b[0m \u001b[0mPerson\u001b[0m\u001b[0;34m(\u001b[0m\u001b[0;34m)\u001b[0m\u001b[0;34m\u001b[0m\u001b[0m\n\u001b[0;32m----> 4\u001b[0;31m \u001b[0mp\u001b[0m\u001b[0;34m.\u001b[0m\u001b[0ms\u001b[0m \u001b[0;34m=\u001b[0m \u001b[0;36m2\u001b[0m\u001b[0;34m\u001b[0m\u001b[0m\n\u001b[0m",
        "\u001b[0;32m<ipython-input-53-ce0f9b709c92>\u001b[0m in \u001b[0;36m__set__\u001b[0;34m(self, instance, value)\u001b[0m\n\u001b[1;32m     38\u001b[0m \u001b[0;34m\u001b[0m\u001b[0m\n\u001b[1;32m     39\u001b[0m     \u001b[0;32mdef\u001b[0m \u001b[0m__set__\u001b[0m\u001b[0;34m(\u001b[0m\u001b[0mself\u001b[0m\u001b[0;34m,\u001b[0m \u001b[0minstance\u001b[0m\u001b[0;34m,\u001b[0m \u001b[0mvalue\u001b[0m\u001b[0;34m)\u001b[0m\u001b[0;34m:\u001b[0m\u001b[0;34m\u001b[0m\u001b[0m\n\u001b[0;32m---> 40\u001b[0;31m         \u001b[0mself\u001b[0m\u001b[0;34m.\u001b[0m\u001b[0mvalue\u001b[0m \u001b[0;34m=\u001b[0m \u001b[0mvalue\u001b[0m\u001b[0;34m\u001b[0m\u001b[0m\n\u001b[0m\u001b[1;32m     41\u001b[0m \u001b[0;34m\u001b[0m\u001b[0m\n\u001b[1;32m     42\u001b[0m \u001b[0;34m\u001b[0m\u001b[0m\n",
        "\u001b[0;32m<ipython-input-53-ce0f9b709c92>\u001b[0m in \u001b[0;36mvalue\u001b[0;34m(self, value)\u001b[0m\n\u001b[1;32m     65\u001b[0m     \u001b[0;32mdef\u001b[0m \u001b[0mvalue\u001b[0m\u001b[0;34m(\u001b[0m\u001b[0mself\u001b[0m\u001b[0;34m,\u001b[0m \u001b[0mvalue\u001b[0m\u001b[0;34m)\u001b[0m\u001b[0;34m:\u001b[0m\u001b[0;34m\u001b[0m\u001b[0m\n\u001b[1;32m     66\u001b[0m         \u001b[0;32mprint\u001b[0m \u001b[0mvalue\u001b[0m\u001b[0;34m\u001b[0m\u001b[0m\n\u001b[0;32m---> 67\u001b[0;31m         \u001b[0mself\u001b[0m\u001b[0;34m.\u001b[0m\u001b[0m_validate\u001b[0m\u001b[0;34m(\u001b[0m\u001b[0mvalue\u001b[0m\u001b[0;34m)\u001b[0m\u001b[0;34m\u001b[0m\u001b[0m\n\u001b[0m\u001b[1;32m     68\u001b[0m         \u001b[0mself\u001b[0m\u001b[0;34m.\u001b[0m\u001b[0m_value\u001b[0m \u001b[0;34m=\u001b[0m \u001b[0mvalue\u001b[0m\u001b[0;34m\u001b[0m\u001b[0m\n",
        "\u001b[0;32m<ipython-input-53-ce0f9b709c92>\u001b[0m in \u001b[0;36m_validate\u001b[0;34m(self, value)\u001b[0m\n\u001b[1;32m     56\u001b[0m         \"\"\"\n\u001b[1;32m     57\u001b[0m         \u001b[0;32mif\u001b[0m \u001b[0;32mnot\u001b[0m \u001b[0misinstance\u001b[0m\u001b[0;34m(\u001b[0m\u001b[0mvalue\u001b[0m\u001b[0;34m,\u001b[0m \u001b[0mstr\u001b[0m\u001b[0;34m)\u001b[0m\u001b[0;34m:\u001b[0m\u001b[0;34m\u001b[0m\u001b[0m\n\u001b[0;32m---> 58\u001b[0;31m             \u001b[0;32mraise\u001b[0m \u001b[0mTypeError\u001b[0m\u001b[0;34m(\u001b[0m\u001b[0;34m\"String data is not assigned to string Field\"\u001b[0m\u001b[0;34m)\u001b[0m\u001b[0;34m\u001b[0m\u001b[0m\n\u001b[0m\u001b[1;32m     59\u001b[0m \u001b[0;34m\u001b[0m\u001b[0m\n\u001b[1;32m     60\u001b[0m     \u001b[0;34m@\u001b[0m\u001b[0mproperty\u001b[0m\u001b[0;34m\u001b[0m\u001b[0m\n",
        "\u001b[0;31mTypeError\u001b[0m: String data is not assigned to string Field"
       ]
      },
      {
       "output_type": "stream",
       "stream": "stdout",
       "text": [
        "2\n"
       ]
      }
     ],
     "prompt_number": 61
    },
    {
     "cell_type": "code",
     "collapsed": false,
     "input": [
      "import six\n",
      "\n",
      "class ModelMeta(type):\n",
      "    \"\"\"\n",
      "    Meta class for all Mongodb models\n",
      "    \"\"\"\n",
      "    def __new__(cls, name, bases, attrs):\n",
      "        cls.attrs = attrs\n",
      "        return super(ModelMeta, cls).__new__(cls, name, bases, attrs)\n",
      "\n",
      "\n",
      "class Model(six.with_metaclass(ModelMeta)):\n",
      "    @classmethod\n",
      "    def put(cls):\n",
      "       print cls.attrs\n",
      "\n",
      "class User(Model):\n",
      "    a = 2\n",
      "    b = 3\n",
      "    \n",
      "u = User()\n",
      "u.put()"
     ],
     "language": "python",
     "metadata": {},
     "outputs": [
      {
       "output_type": "stream",
       "stream": "stdout",
       "text": [
        "{'a': 2, '__module__': '__main__', 'b': 3}\n"
       ]
      }
     ],
     "prompt_number": 17
    },
    {
     "cell_type": "code",
     "collapsed": false,
     "input": [],
     "language": "python",
     "metadata": {},
     "outputs": []
    }
   ],
   "metadata": {}
  }
 ]
}