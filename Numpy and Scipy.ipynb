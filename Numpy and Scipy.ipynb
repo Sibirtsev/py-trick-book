{
 "metadata": {
  "name": ""
 },
 "nbformat": 3,
 "nbformat_minor": 0,
 "worksheets": [
  {
   "cells": [
    {
     "cell_type": "markdown",
     "metadata": {},
     "source": [
      "#NUMPY"
     ]
    },
    {
     "cell_type": "code",
     "collapsed": false,
     "input": [
      "import numpy as np\n",
      "import matplotlib.pyplot as plt\n",
      "#lets plot a linear graph\n",
      "x = np.arange(100)\n",
      "y= x\n",
      "plt.plot(x,y,'r--o')\n",
      "plt.show()\n",
      "plt.grid(True)"
     ],
     "language": "python",
     "metadata": {},
     "outputs": [],
     "prompt_number": 2
    },
    {
     "cell_type": "code",
     "collapsed": false,
     "input": [
      "#creating\n",
      "x = np.array(np.arange(100)) #1-D\n",
      "print x.ndim\n",
      "print x.shape\n",
      "x = np.array([np.arange(10),np.arange(10)])#2-D\n",
      "print x.ndim\n",
      "print x.shape\n",
      "x = np.array([[np.arange(10)],[np.arange(10)]])\n",
      "print x.ndim\n",
      "print x.shape"
     ],
     "language": "python",
     "metadata": {},
     "outputs": [
      {
       "output_type": "stream",
       "stream": "stdout",
       "text": [
        "1\n",
        "(100,)\n",
        "2\n",
        "(2, 10)\n",
        "3\n",
        "(2, 1, 10)\n"
       ]
      }
     ],
     "prompt_number": 18
    },
    {
     "cell_type": "code",
     "collapsed": false,
     "input": [
      "#linespacing\n",
      "print np.arange(1,9,2) #one to nine on increments of 2\n",
      "print np.linspace(0,1,6) #six intervals from 0 to 6\n",
      "print np.ones((1,1,1)) #gives an unit matrix of 1,1,1 dim\n",
      "print np.zeros((2,2)) #gives an null matrix 2 rows and 2 columns \n",
      "print np.eye(2) #gives an identical matrix of 2 rows\n",
      "print np.diag([1,2,3]) #gives an diagonal matrix of 1,2,3\n"
     ],
     "language": "python",
     "metadata": {},
     "outputs": [
      {
       "output_type": "stream",
       "stream": "stdout",
       "text": [
        "[1 3 5 7]\n",
        "[ 0.   0.2  0.4  0.6  0.8  1. ]\n",
        "[[[ 1.]]]\n",
        "[[ 0.  0.]\n",
        " [ 0.  0.]]\n",
        "[[ 1.  0.]\n",
        " [ 0.  1.]]\n",
        "[[1 0 0]\n",
        " [0 2 0]\n",
        " [0 0 3]]\n"
       ]
      }
     ],
     "prompt_number": 32
    },
    {
     "cell_type": "code",
     "collapsed": false,
     "input": [
      "#random matrix generation\n",
      "\"\"\"\n",
      "RandomState exposes a number of methods for generating random numbers \n",
      "drawn from a variety of probability distributions. In addition to the \n",
      "distribution-specific arguments, each method takes a keyword argument \n",
      "size that defaults to None. If size is None, then a single value is generated\n",
      "and returned. If size is an integer, then a 1-D array filled with generated\n",
      "values is returned. If size is a tuple, then an array with that shape is filled\n",
      "and returned.\n",
      "\"\"\"\n",
      "import math\n",
      "a = np.random.rand(4) #0 to 1 uniform probability\n",
      "print a\n",
      "b = np.random.randn(5) #gaussion probability\n",
      "print b\n",
      "a = np.random.rand(4) #0 to 1 uniform probability\n",
      "print a\n",
      "b = np.random.randn(5) #gaussion probability\n",
      "print b"
     ],
     "language": "python",
     "metadata": {},
     "outputs": [
      {
       "output_type": "stream",
       "stream": "stdout",
       "text": [
        "[ 0.43857224  0.0596779   0.39804426  0.73799541]\n",
        "[-0.8667404  -0.44398196 -0.43435128  2.20593008  2.18678609]\n",
        "[ 0.63440096  0.84943179  0.72445532  0.61102351]\n",
        "[-0.93583387  1.17582904 -1.25388067 -0.6377515   0.9071052 ]\n"
       ]
      }
     ],
     "prompt_number": 40
    },
    {
     "cell_type": "code",
     "collapsed": false,
     "input": [
      "import numpy as np\n",
      "a = np.array([1,2,3])\n",
      "print a.dtype\n",
      "a = np.array([1.,2.,3.])\n",
      "print a.dtype\n",
      "a = np.array([1+1j, 2+2j,3+3j])\n",
      "print a.dtype"
     ],
     "language": "python",
     "metadata": {},
     "outputs": [
      {
       "output_type": "stream",
       "stream": "stdout",
       "text": [
        "int32\n",
        "float64\n",
        "complex128\n"
       ]
      }
     ],
     "prompt_number": 5
    },
    {
     "cell_type": "code",
     "collapsed": false,
     "input": [
      "#basic visuvalisation\n",
      "import matplotlib.pyplot as plt\n",
      "np.random.seed(234)\n",
      "x = np.random.rand(30,30)\n",
      "plt.imshow(x)\n",
      "plt.colorbar()\n",
      "plt.show()"
     ],
     "language": "python",
     "metadata": {},
     "outputs": [],
     "prompt_number": 10
    },
    {
     "cell_type": "code",
     "collapsed": false,
     "input": [
      "#array slicing\n",
      "import numpy as np\n",
      "\n",
      "a = np.random.rand(3,3)\n",
      "print a\n",
      "print a[0, 1:3]\n",
      "print a[0:2, 1:3]\n",
      "print a[::2]"
     ],
     "language": "python",
     "metadata": {},
     "outputs": [
      {
       "output_type": "stream",
       "stream": "stdout",
       "text": [
        "[[ 0.13297198  0.82171892  0.15425331]\n",
        " [ 0.44950344  0.26915681  0.9896541 ]\n",
        " [ 0.52766291  0.68903327  0.98879075]]\n",
        "[ 0.82171892  0.15425331]\n",
        "[[ 0.82171892  0.15425331]\n",
        " [ 0.26915681  0.9896541 ]]\n",
        "[[ 0.13297198  0.82171892  0.15425331]\n",
        " [ 0.52766291  0.68903327  0.98879075]]\n"
       ]
      }
     ],
     "prompt_number": 18
    },
    {
     "cell_type": "code",
     "collapsed": false,
     "input": [
      "#may_share_memory \n",
      "#used to check whethere the two array share the same memory or not\n",
      "import numpy as np\n",
      "a = np.random.rand(3,3)\n",
      "b = a[::2,2]\n",
      "print np.may_share_memory(b,a)"
     ],
     "language": "python",
     "metadata": {},
     "outputs": [
      {
       "output_type": "stream",
       "stream": "stdout",
       "text": [
        "True\n"
       ]
      }
     ],
     "prompt_number": 21
    },
    {
     "cell_type": "code",
     "collapsed": false,
     "input": [],
     "language": "python",
     "metadata": {},
     "outputs": []
    }
   ],
   "metadata": {}
  }
 ]
}