{
 "metadata": {
  "name": "",
  "signature": "sha256:4ce459ac4b4ba3550e6807a93c18f2f09f004131901740c35060caeedb2af366"
 },
 "nbformat": 3,
 "nbformat_minor": 0,
 "worksheets": [
  {
   "cells": [
    {
     "cell_type": "code",
     "collapsed": false,
     "input": [
      "#Newton Raphson method of finding a square root of the given number\n",
      "\n"
     ],
     "language": "python",
     "metadata": {},
     "outputs": []
    }
   ],
   "metadata": {}
  }
 ]
}