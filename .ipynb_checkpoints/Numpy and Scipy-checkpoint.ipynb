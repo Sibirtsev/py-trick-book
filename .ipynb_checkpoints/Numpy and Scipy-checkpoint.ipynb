{
 "metadata": {
  "name": ""
 },
 "nbformat": 3,
 "nbformat_minor": 0,
 "worksheets": [
  {
   "cells": [
    {
     "cell_type": "markdown",
     "metadata": {},
     "source": [
      "#NUMPY"
     ]
    },
    {
     "cell_type": "code",
     "collapsed": false,
     "input": [
      "import numpy as np\n",
      "import matplotlib.pyplot as plt\n",
      "#lets plot a linear graph\n",
      "x = np.arange(100)\n",
      "y= x\n",
      "plt.plot(x,y,'r--o')\n",
      "plt.show()\n",
      "plt.grid(True)"
     ],
     "language": "python",
     "metadata": {},
     "outputs": [],
     "prompt_number": 2
    },
    {
     "cell_type": "code",
     "collapsed": false,
     "input": [
      "#creating\n",
      "x = np.array(np.arange(100)) #1-D\n",
      "print x.ndim\n",
      "print x.shape\n",
      "x = np.array([np.arange(10),np.arange(10)])#2-D\n",
      "print x.ndim\n",
      "print x.shape\n",
      "x = np.array([[np.arange(10)],[np.arange(10)]])\n",
      "print x.ndim\n",
      "print x.shape"
     ],
     "language": "python",
     "metadata": {},
     "outputs": [
      {
       "output_type": "stream",
       "stream": "stdout",
       "text": [
        "1\n",
        "(100,)\n",
        "2\n",
        "(2, 10)\n",
        "3\n",
        "(2, 1, 10)\n"
       ]
      }
     ],
     "prompt_number": 18
    },
    {
     "cell_type": "code",
     "collapsed": false,
     "input": [
      "#linespacing\n",
      "print np.arange(1,9,2) #one to nine on increments of 2\n",
      "print np.linspace(0,1,6) #six intervals from 0 to 6\n",
      "print np.ones((1,1,1)) #gives an unit matrix of 1,1,1 dim\n",
      "print np.zeros((2,2)) #gives an null matrix 2 rows and 2 columns \n",
      "print np.eye(2) #gives an identical matrix of 2 rows\n",
      "print np.diag([1,2,3]) #gives an diagonal matrix of 1,2,3\n"
     ],
     "language": "python",
     "metadata": {},
     "outputs": [
      {
       "output_type": "stream",
       "stream": "stdout",
       "text": [
        "[1 3 5 7]\n",
        "[ 0.   0.2  0.4  0.6  0.8  1. ]\n",
        "[[[ 1.]]]\n",
        "[[ 0.  0.]\n",
        " [ 0.  0.]]\n",
        "[[ 1.  0.]\n",
        " [ 0.  1.]]\n",
        "[[1 0 0]\n",
        " [0 2 0]\n",
        " [0 0 3]]\n"
       ]
      }
     ],
     "prompt_number": 32
    },
    {
     "cell_type": "code",
     "collapsed": false,
     "input": [
      "#random matrix generation\n",
      "\"\"\"\n",
      "RandomState exposes a number of methods for generating random numbers \n",
      "drawn from a variety of probability distributions. In addition to the \n",
      "distribution-specific arguments, each method takes a keyword argument \n",
      "size that defaults to None. If size is None, then a single value is generated\n",
      "and returned. If size is an integer, then a 1-D array filled with generated\n",
      "values is returned. If size is a tuple, then an array with that shape is filled\n",
      "and returned.\n",
      "\"\"\"\n",
      "import math\n",
      "a = np.random.rand(4) #0 to 1 uniform probability\n",
      "print a\n",
      "b = np.random.randn(5) #gaussion probability\n",
      "print b\n",
      "a = np.random.rand(4) #0 to 1 uniform probability\n",
      "print a\n",
      "b = np.random.randn(5) #gaussion probability\n",
      "print b"
     ],
     "language": "python",
     "metadata": {},
     "outputs": [
      {
       "output_type": "stream",
       "stream": "stdout",
       "text": [
        "[ 0.43857224  0.0596779   0.39804426  0.73799541]\n",
        "[-0.8667404  -0.44398196 -0.43435128  2.20593008  2.18678609]\n",
        "[ 0.63440096  0.84943179  0.72445532  0.61102351]\n",
        "[-0.93583387  1.17582904 -1.25388067 -0.6377515   0.9071052 ]\n"
       ]
      }
     ],
     "prompt_number": 40
    },
    {
     "cell_type": "code",
     "collapsed": false,
     "input": [],
     "language": "python",
     "metadata": {},
     "outputs": []
    }
   ],
   "metadata": {}
  }
 ]
}