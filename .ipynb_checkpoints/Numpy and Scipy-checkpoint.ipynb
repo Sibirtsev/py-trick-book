{
 "metadata": {
  "name": ""
 },
 "nbformat": 3,
 "nbformat_minor": 0,
 "worksheets": [
  {
   "cells": [
    {
     "cell_type": "markdown",
     "metadata": {},
     "source": [
      "#NUMPY"
     ]
    },
    {
     "cell_type": "code",
     "collapsed": false,
     "input": [
      "import numpy as np\n",
      "import matplotlib.pyplot as plt\n",
      "#lets plot a linear graph\n",
      "x = np.arange(100)\n",
      "y= x\n",
      "plt.plot(x,y,'r--o')\n",
      "plt.show()\n",
      "plt.grid(True)"
     ],
     "language": "python",
     "metadata": {},
     "outputs": [],
     "prompt_number": 2
    },
    {
     "cell_type": "code",
     "collapsed": false,
     "input": [
      "#creating\n",
      "x = np.array(np.arange(100)) #1-D\n",
      "print x.ndim\n",
      "print x.shape\n",
      "x = np.array([np.arange(10),np.arange(10)])#2-D\n",
      "print x.ndim\n",
      "print x.shape\n",
      "x = np.array([[np.arange(10)],[np.arange(10)]])\n",
      "print x.ndim\n",
      "print x.shape"
     ],
     "language": "python",
     "metadata": {},
     "outputs": [
      {
       "output_type": "stream",
       "stream": "stdout",
       "text": [
        "1\n",
        "(100,)\n",
        "2\n",
        "(2, 10)\n",
        "3\n",
        "(2, 1, 10)\n"
       ]
      }
     ],
     "prompt_number": 18
    },
    {
     "cell_type": "code",
     "collapsed": false,
     "input": [
      "#linespacing\n",
      "print np.arange(1,9,2) #one to nine on increments of 2\n",
      "print np.linspace(0,1,6) #six intervals from 0 to 6\n",
      "print np.ones((1,1,1)) #gives an unit matrix of 1,1,1 dim\n",
      "print np.zeros((2,2)) #gives an null matrix 2 rows and 2 columns \n",
      "print np.eye(2) #gives an identical matrix of 2 rows\n",
      "print np.diag([1,2,3]) #gives an diagonal matrix of 1,2,3\n"
     ],
     "language": "python",
     "metadata": {},
     "outputs": [
      {
       "output_type": "stream",
       "stream": "stdout",
       "text": [
        "[1 3 5 7]\n",
        "[ 0.   0.2  0.4  0.6  0.8  1. ]\n",
        "[[[ 1.]]]\n",
        "[[ 0.  0.]\n",
        " [ 0.  0.]]\n",
        "[[ 1.  0.]\n",
        " [ 0.  1.]]\n",
        "[[1 0 0]\n",
        " [0 2 0]\n",
        " [0 0 3]]\n"
       ]
      }
     ],
     "prompt_number": 32
    },
    {
     "cell_type": "code",
     "collapsed": false,
     "input": [
      "#random matrix generation\n",
      "\"\"\"\n",
      "RandomState exposes a number of methods for generating random numbers \n",
      "drawn from a variety of probability distributions. In addition to the \n",
      "distribution-specific arguments, each method takes a keyword argument \n",
      "size that defaults to None. If size is None, then a single value is generated\n",
      "and returned. If size is an integer, then a 1-D array filled with generated\n",
      "values is returned. If size is a tuple, then an array with that shape is filled\n",
      "and returned.\n",
      "\"\"\"\n",
      "import math\n",
      "a = np.random.rand(4) #0 to 1 uniform probability\n",
      "print a\n",
      "b = np.random.randn(5) #gaussion probability\n",
      "print b\n",
      "a = np.random.rand(4) #0 to 1 uniform probability\n",
      "print a\n",
      "b = np.random.randn(5) #gaussion probability\n",
      "print b"
     ],
     "language": "python",
     "metadata": {},
     "outputs": [
      {
       "output_type": "stream",
       "stream": "stdout",
       "text": [
        "[ 0.43857224  0.0596779   0.39804426  0.73799541]\n",
        "[-0.8667404  -0.44398196 -0.43435128  2.20593008  2.18678609]\n",
        "[ 0.63440096  0.84943179  0.72445532  0.61102351]\n",
        "[-0.93583387  1.17582904 -1.25388067 -0.6377515   0.9071052 ]\n"
       ]
      }
     ],
     "prompt_number": 40
    },
    {
     "cell_type": "code",
     "collapsed": false,
     "input": [
      "import numpy as np\n",
      "a = np.array([1,2,3])\n",
      "print a.dtype\n",
      "a = np.array([1.,2.,3.])\n",
      "print a.dtype\n",
      "a = np.array([1+1j, 2+2j,3+3j])\n",
      "print a.dtype"
     ],
     "language": "python",
     "metadata": {},
     "outputs": [
      {
       "output_type": "stream",
       "stream": "stdout",
       "text": [
        "int32\n",
        "float64\n",
        "complex128\n"
       ]
      }
     ],
     "prompt_number": 5
    },
    {
     "cell_type": "code",
     "collapsed": false,
     "input": [
      "#basic visuvalisation\n",
      "import matplotlib.pyplot as plt\n",
      "np.random.seed(234)\n",
      "x = np.random.rand(30,30)\n",
      "plt.imshow(x)\n",
      "plt.colorbar()\n",
      "plt.show()"
     ],
     "language": "python",
     "metadata": {},
     "outputs": [],
     "prompt_number": 10
    },
    {
     "cell_type": "code",
     "collapsed": false,
     "input": [
      "#array slicing\n",
      "import numpy as np\n",
      "\n",
      "a = np.random.rand(3,3)\n",
      "print a\n",
      "print a[0, 1:3]\n",
      "print a[0:2, 1:3]\n",
      "print a[::2]"
     ],
     "language": "python",
     "metadata": {},
     "outputs": [
      {
       "output_type": "stream",
       "stream": "stdout",
       "text": [
        "[[ 0.13297198  0.82171892  0.15425331]\n",
        " [ 0.44950344  0.26915681  0.9896541 ]\n",
        " [ 0.52766291  0.68903327  0.98879075]]\n",
        "[ 0.82171892  0.15425331]\n",
        "[[ 0.82171892  0.15425331]\n",
        " [ 0.26915681  0.9896541 ]]\n",
        "[[ 0.13297198  0.82171892  0.15425331]\n",
        " [ 0.52766291  0.68903327  0.98879075]]\n"
       ]
      }
     ],
     "prompt_number": 18
    },
    {
     "cell_type": "code",
     "collapsed": false,
     "input": [
      "#may_share_memory \n",
      "#used to check whethere the two array share the same memory or not\n",
      "import numpy as np\n",
      "a = np.random.rand(3,3)\n",
      "b = a[::2,2]\n",
      "print np.may_share_memory(b,a)"
     ],
     "language": "python",
     "metadata": {},
     "outputs": [
      {
       "output_type": "stream",
       "stream": "stdout",
       "text": [
        "True\n"
       ]
      }
     ],
     "prompt_number": 21
    },
    {
     "cell_type": "code",
     "collapsed": false,
     "input": [
      "#primeornot\n",
      "is_prime = np.ones((100,), dtype=bool)\n",
      "is_prime[:2] = 0\n",
      "N_max = int(np.sqrt(len(is_prime)))\n",
      "print N_max\n",
      "for j in range(2, N_max):\n",
      "    is_prime[2*j::j] = False\n",
      "print np.nonzero(is_prime)\n"
     ],
     "language": "python",
     "metadata": {},
     "outputs": [
      {
       "output_type": "stream",
       "stream": "stdout",
       "text": [
        "10\n",
        "(array([ 2,  3,  5,  7, 11, 13, 17, 19, 23, 29, 31, 37, 41, 43, 47, 53, 59,\n",
        "       61, 67, 71, 73, 79, 83, 89, 97]),)\n"
       ]
      }
     ],
     "prompt_number": 23
    },
    {
     "cell_type": "code",
     "collapsed": false,
     "input": [
      "#fancy indexing\n",
      "import numpy as np\n",
      "nums = np.random.random_integers(0,20,15)\n",
      "print nums\n",
      "print nums[nums%3==0]\n",
      "print nums%3==0\n",
      "print nums.shape\n"
     ],
     "language": "python",
     "metadata": {},
     "outputs": [
      {
       "output_type": "stream",
       "stream": "stdout",
       "text": [
        "[ 0  8  8 19 15  0 18  2 18 14  2 11  6  6 20]\n",
        "[ 0 15  0 18 18  6  6]\n",
        "[ True False False False  True  True  True False  True False False False\n",
        "  True  True False]\n",
        "(15,)\n"
       ]
      }
     ],
     "prompt_number": 4
    },
    {
     "cell_type": "code",
     "collapsed": false,
     "input": [
      "#scalar operations\n",
      "a = np.array([1, 2, 3, 4])\n",
      "print a+1\n",
      "print a**2\n",
      "print a-1\n",
      "print a.dot(a) #matrix multiplication\n",
      "\n",
      "a = np.array([[1,1],[1,1]])\n",
      "print a.dot(a)"
     ],
     "language": "python",
     "metadata": {},
     "outputs": [
      {
       "output_type": "stream",
       "stream": "stdout",
       "text": [
        "[2 3 4 5]\n",
        "[ 1  4  9 16]\n",
        "[0 1 2 3]\n",
        "30\n",
        "[[2 2]\n",
        " [2 2]]\n"
       ]
      }
     ],
     "prompt_number": 11
    },
    {
     "cell_type": "code",
     "collapsed": false,
     "input": [
      "#logical operations\n",
      "a = np.array([1,2,3,4])\n",
      "b = np.array([2,2,4,4])\n",
      "c = np.array([1,2,3,4])\n",
      "print a==b\n",
      "print b>a\n",
      "\n",
      "print np.array_equal(a,c)\n",
      "print np.array_equal(a,b)\n",
      "\n",
      "a = np.array([1, 1, 0, 0], dtype=bool)\n",
      "b = np.array([1, 1, 1, 1], dtype=bool)\n",
      "\n",
      "print np.logical_or(a,b)\n",
      "print np.logical_and(a,b)"
     ],
     "language": "python",
     "metadata": {},
     "outputs": [
      {
       "output_type": "stream",
       "stream": "stdout",
       "text": [
        "[False  True False  True]\n",
        "[ True False  True False]\n",
        "True\n",
        "False\n",
        "[ True  True  True  True]\n",
        "[ True  True False False]\n"
       ]
      }
     ],
     "prompt_number": 24
    },
    {
     "cell_type": "code",
     "collapsed": false,
     "input": [
      " a = np.triu(np.ones((3, 3)),1)\n",
      " a"
     ],
     "language": "python",
     "metadata": {},
     "outputs": [
      {
       "metadata": {},
       "output_type": "pyout",
       "prompt_number": 23,
       "text": [
        "array([[ 1.,  1.,  1.],\n",
        "       [ 1.,  1.,  1.],\n",
        "       [ 0.,  1.,  1.]])"
       ]
      }
     ],
     "prompt_number": 23
    },
    {
     "cell_type": "code",
     "collapsed": false,
     "input": [
      "x = np.array([[1, 1,1], [2, 2,2],[3,3,3]])\n",
      "x.sum(axis=1)\n",
      "x = np.array([[np.arange(10)],[np.arange(10)]])\n",
      "print x\n",
      "print x.sum(axis=0)\n",
      "print x.sum(axis=1)\n",
      "print x.sum(axis=2)"
     ],
     "language": "python",
     "metadata": {},
     "outputs": [
      {
       "output_type": "stream",
       "stream": "stdout",
       "text": [
        "[[[0 1 2 3 4 5 6 7 8 9]]\n",
        "\n",
        " [[0 1 2 3 4 5 6 7 8 9]]]\n",
        "[[ 0  2  4  6  8 10 12 14 16 18]]\n",
        "[[0 1 2 3 4 5 6 7 8 9]\n",
        " [0 1 2 3 4 5 6 7 8 9]]\n",
        "[[45]\n",
        " [45]]\n"
       ]
      }
     ],
     "prompt_number": 31
    },
    {
     "cell_type": "code",
     "collapsed": false,
     "input": [
      "a = np.array([1,2,3,0])\n",
      "def get_min(a):\n",
      "    return a.argmin(), a.min()  #a.argmin() returns the index of min element and a.min() returns the minimum element\n",
      "get_min(a)"
     ],
     "language": "python",
     "metadata": {},
     "outputs": [
      {
       "metadata": {},
       "output_type": "pyout",
       "prompt_number": 34,
       "text": [
        "(3, 0)"
       ]
      }
     ],
     "prompt_number": 34
    },
    {
     "cell_type": "code",
     "collapsed": false,
     "input": [
      "#http://scipy-lectures.github.io/intro/numpy/operations.html\n",
      "#tiling\n",
      "import numpy as np\n",
      "a = np.tile(np.arange(0, 40, 10), (3, 1))\n",
      "print a\n"
     ],
     "language": "python",
     "metadata": {},
     "outputs": [
      {
       "output_type": "stream",
       "stream": "stdout",
       "text": [
        "[[ 0 10 20 30]\n",
        " [ 0 10 20 30]\n",
        " [ 0 10 20 30]]\n"
       ]
      }
     ],
     "prompt_number": 6
    },
    {
     "cell_type": "code",
     "collapsed": false,
     "input": [
      "mileposts = np.array([0, 198, 303, 736, 871, 1175, 1475, 1544, 1913, 2448])\n",
      "print mileposts[:, np.newaxis]\n",
      "mileposts = mileposts - mileposts[:, np.newaxis]\n",
      "print mileposts"
     ],
     "language": "python",
     "metadata": {},
     "outputs": [
      {
       "output_type": "stream",
       "stream": "stdout",
       "text": [
        "[[   0]\n",
        " [ 198]\n",
        " [ 303]\n",
        " [ 736]\n",
        " [ 871]\n",
        " [1175]\n",
        " [1475]\n",
        " [1544]\n",
        " [1913]\n",
        " [2448]]\n",
        "[[    0   198   303   736   871  1175  1475  1544  1913  2448]\n",
        " [ -198     0   105   538   673   977  1277  1346  1715  2250]\n",
        " [ -303  -105     0   433   568   872  1172  1241  1610  2145]\n",
        " [ -736  -538  -433     0   135   439   739   808  1177  1712]\n",
        " [ -871  -673  -568  -135     0   304   604   673  1042  1577]\n",
        " [-1175  -977  -872  -439  -304     0   300   369   738  1273]\n",
        " [-1475 -1277 -1172  -739  -604  -300     0    69   438   973]\n",
        " [-1544 -1346 -1241  -808  -673  -369   -69     0   369   904]\n",
        " [-1913 -1715 -1610 -1177 -1042  -738  -438  -369     0   535]\n",
        " [-2448 -2250 -2145 -1712 -1577 -1273  -973  -904  -535     0]]\n"
       ]
      }
     ],
     "prompt_number": 9
    },
    {
     "cell_type": "code",
     "collapsed": false,
     "input": [
      "import matplotlib.pyplot as plt\n",
      "plt.pcolor(mileposts)\n",
      "plt.colorbar()\n",
      "plt.show()\n"
     ],
     "language": "python",
     "metadata": {},
     "outputs": [],
     "prompt_number": 12
    },
    {
     "cell_type": "code",
     "collapsed": false,
     "input": [
      "#griding\n",
      "x, y = np.ogrid[0:5, 0:5]\n",
      "print x**2 + y**2\n",
      "distance = np.sqrt(x ** 2 + y ** 2)\n",
      "print distance"
     ],
     "language": "python",
     "metadata": {},
     "outputs": [
      {
       "output_type": "stream",
       "stream": "stdout",
       "text": [
        "[[ 0  1  4  9 16]\n",
        " [ 1  2  5 10 17]\n",
        " [ 4  5  8 13 20]\n",
        " [ 9 10 13 18 25]\n",
        " [16 17 20 25 32]]\n",
        "[[ 0.          1.          2.          3.          4.        ]\n",
        " [ 1.          1.41421356  2.23606798  3.16227766  4.12310563]\n",
        " [ 2.          2.23606798  2.82842712  3.60555128  4.47213595]\n",
        " [ 3.          3.16227766  3.60555128  4.24264069  5.        ]\n",
        " [ 4.          4.12310563  4.47213595  5.          5.65685425]]\n"
       ]
      }
     ],
     "prompt_number": 20
    },
    {
     "cell_type": "code",
     "collapsed": false,
     "input": [
      "#http://scipy-lectures.github.io/intro/numpy/operations.html#id5"
     ],
     "language": "python",
     "metadata": {},
     "outputs": []
    }
   ],
   "metadata": {}
  }
 ]
}