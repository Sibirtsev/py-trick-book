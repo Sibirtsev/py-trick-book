{
 "metadata": {
  "name": "",
  "signature": "sha256:99ea2263042e845581ea87bb2981bffba0d9995aa784c99d256372d4694d9422"
 },
 "nbformat": 3,
 "nbformat_minor": 0,
 "worksheets": [
  {
   "cells": [
    {
     "cell_type": "heading",
     "level": 1,
     "metadata": {},
     "source": [
      "Python Tricks"
     ]
    },
    {
     "cell_type": "code",
     "collapsed": false,
     "input": [
      "class Myclass:\n",
      "    def __init__(self):\n",
      "        self.list=[1,2,3,4]\n",
      "    def __getitem__(self,index):\n",
      "        return self.list[index[0]:index[1]]\n",
      "obj=Myclass()\n",
      "print obj[1,3]\n",
      "        "
     ],
     "language": "python",
     "metadata": {},
     "outputs": [
      {
       "output_type": "stream",
       "stream": "stdout",
       "text": [
        "[2, 3]\n"
       ]
      }
     ],
     "prompt_number": 1
    },
    {
     "cell_type": "heading",
     "level": 3,
     "metadata": {},
     "source": [
      "The above Example show the use of operator overloading in python. "
     ]
    },
    {
     "cell_type": "heading",
     "level": 4,
     "metadata": {},
     "source": [
      "    By overring the definition __getitem__ with an index value we can overload [] index bracket of the datatype."
     ]
    },
    {
     "cell_type": "markdown",
     "metadata": {},
     "source": [
      " eg 1) with the above reference lets create a ordered pair data structure with python."
     ]
    },
    {
     "cell_type": "code",
     "collapsed": false,
     "input": [
      "class Ordered:\n",
      "    def __init__(self):\n",
      "        self.items={(1,1):1,(1,2):2,(1,3):3}\n",
      "    def __getitem__(self,index):\n",
      "        return self.items[index]\n",
      "#The above self.items show the simple structure where  we can reference the ordered pair\n",
      "o=Ordered()\n",
      "print o[1,2]"
     ],
     "language": "python",
     "metadata": {},
     "outputs": [
      {
       "output_type": "stream",
       "stream": "stdout",
       "text": [
        "2\n"
       ]
      }
     ],
     "prompt_number": 3
    },
    {
     "cell_type": "heading",
     "level": 2,
     "metadata": {},
     "source": [
      "Introduction to partial functions:"
     ]
    },
    {
     "cell_type": "heading",
     "level": 4,
     "metadata": {},
     "source": [
      "All thing in python are treated as object"
     ]
    },
    {
     "cell_type": "code",
     "collapsed": false,
     "input": [
      "def add(x,y):\n",
      "    return x+y\n",
      "add.x=2\n",
      "add.y=3\n",
      "print add(add.x,add.y)"
     ],
     "language": "python",
     "metadata": {},
     "outputs": [
      {
       "output_type": "stream",
       "stream": "stdout",
       "text": [
        "5\n"
       ]
      }
     ],
     "prompt_number": 5
    },
    {
     "cell_type": "heading",
     "level": 3,
     "metadata": {},
     "source": [
      "Partial functions:"
     ]
    },
    {
     "cell_type": "code",
     "collapsed": false,
     "input": [
      "def square(a,b):\n",
      "    return a**b\n",
      "from functools import partial\n",
      "p=partial(square,2,2)\n",
      "print p()\n",
      "\n",
      "q=partial(square,2)\n",
      "print q(2)\n",
      "    "
     ],
     "language": "python",
     "metadata": {},
     "outputs": [
      {
       "output_type": "stream",
       "stream": "stdout",
       "text": [
        "4\n",
        "4\n"
       ]
      }
     ],
     "prompt_number": 11
    },
    {
     "cell_type": "markdown",
     "metadata": {},
     "source": [
      "partials functions binds the values to the current scope. On the above example\n",
      "square function takes two arguments namely a,b by creating a paritial function\n",
      "will assign the values of a and b."
     ]
    },
    {
     "cell_type": "code",
     "collapsed": false,
     "input": [
      "from functools import partial\n",
      "def dec(func):\n",
      "    def wrapper(*args,**kwargs):\n",
      "        return partial(func,type=\"post\")\n",
      "    return wrapper()\n",
      "@dec\n",
      "def method(a,type=\"get\"):\n",
      "    return a,type\n",
      "\n",
      "method(2)"
     ],
     "language": "python",
     "metadata": {},
     "outputs": [
      {
       "metadata": {},
       "output_type": "pyout",
       "prompt_number": 26,
       "text": [
        "(2, 'post')"
       ]
      }
     ],
     "prompt_number": 26
    },
    {
     "cell_type": "markdown",
     "metadata": {},
     "source": [
      "On the above example will try to change the varible passed to the function to set the manually defined arguments."
     ]
    },
    {
     "cell_type": "code",
     "collapsed": false,
     "input": [
      "from functools import partial\n",
      "def dec(func,type=\"post\"):\n",
      "    def wrapper(*args,**kwargs):\n",
      "        return partial(func,type=type)\n",
      "    return wrapper()\n",
      "@dec\n",
      "def method(a,type=\"get\"):\n",
      "    return a,type\n",
      "\n",
      "method(2)\n"
     ],
     "language": "python",
     "metadata": {},
     "outputs": [
      {
       "metadata": {},
       "output_type": "pyout",
       "prompt_number": 29,
       "text": [
        "(2, 'post')"
       ]
      }
     ],
     "prompt_number": 29
    },
    {
     "cell_type": "markdown",
     "metadata": {},
     "source": [
      "when you want to convert the dict to json we can use this"
     ]
    },
    {
     "cell_type": "code",
     "collapsed": false,
     "input": [
      "from functools import wraps\n",
      "import json\n",
      "\n",
      "def Json(func,*args,**kwargs):\n",
      "    def inner(*args,**kwargs):\n",
      "        return json.dumps(func(*args,**kwargs))\n",
      "    return inner\n",
      "\n",
      "@Json\n",
      "def resp(name):\n",
      "    return name\n",
      "\n",
      "resp({'name':'hello'})\n"
     ],
     "language": "python",
     "metadata": {},
     "outputs": [
      {
       "metadata": {},
       "output_type": "pyout",
       "prompt_number": 32,
       "text": [
        "'{\"name\": \"hello\"}'"
       ]
      }
     ],
     "prompt_number": 32
    },
    {
     "cell_type": "code",
     "collapsed": false,
     "input": [
      "from functools import wraps,partial\n",
      "\n",
      "def LogIt(logit):\n",
      "    def actualDecorator(test_func):\n",
      "        @wraps(test_func)\n",
      "        def wrapper(*args, **kwargs):\n",
      "            if logit:\n",
      "                print \"executing \",test_func.__name__\n",
      "            return test_func(*args, **kwargs)\n",
      "        return wrapper\n",
      "    return actualDecorator\n",
      "\n",
      "@LogIt(False)\n",
      "def methodone():\n",
      "    return \"hello\"\n",
      "\n",
      "@LogIt(True)\n",
      "def methodtwo():\n",
      "    return \"hellotwo\"\n",
      "\n",
      "\n",
      "print methodtwo()\n",
      "print methodone()"
     ],
     "language": "python",
     "metadata": {},
     "outputs": [
      {
       "output_type": "stream",
       "stream": "stdout",
       "text": [
        "executing  methodtwo\n",
        "hellotwo\n",
        "hello\n"
       ]
      }
     ],
     "prompt_number": 7
    },
    {
     "cell_type": "markdown",
     "metadata": {},
     "source": [
      "The above example shows the working of decoraters with parameters."
     ]
    },
    {
     "cell_type": "code",
     "collapsed": false,
     "input": [],
     "language": "python",
     "metadata": {},
     "outputs": []
    }
   ],
   "metadata": {}
  }
 ]
}