{
 "metadata": {
  "name": "",
  "signature": "sha256:08588d7961a8e273e1d2e367584722d21667bdc6e051b2a3ecbbb6d7c5417495"
 },
 "nbformat": 3,
 "nbformat_minor": 0,
 "worksheets": [
  {
   "cells": [
    {
     "cell_type": "heading",
     "level": 1,
     "metadata": {},
     "source": [
      "Python Tricks"
     ]
    },
    {
     "cell_type": "code",
     "collapsed": false,
     "input": [
      "class Myclass:\n",
      "    def __init__(self):\n",
      "        self.list=[1,2,3,4]\n",
      "    def __getitem__(self,index):\n",
      "        return self.list[index[0]:index[1]]\n",
      "obj=Myclass()\n",
      "print obj[1,3]\n",
      "        "
     ],
     "language": "python",
     "metadata": {},
     "outputs": [
      {
       "output_type": "stream",
       "stream": "stdout",
       "text": [
        "[2, 3]\n"
       ]
      }
     ],
     "prompt_number": 1
    },
    {
     "cell_type": "heading",
     "level": 3,
     "metadata": {},
     "source": [
      "The above Example show the use of operator overloading in python. "
     ]
    },
    {
     "cell_type": "heading",
     "level": 4,
     "metadata": {},
     "source": [
      "    By overring the definition __getitem__ with an index value we can overload [] index bracket of the datatype."
     ]
    },
    {
     "cell_type": "markdown",
     "metadata": {},
     "source": [
      " eg 1) with the above reference lets create a ordered pair data structure with python."
     ]
    },
    {
     "cell_type": "code",
     "collapsed": false,
     "input": [
      "# class Ordered:\n",
      "#     def __init__(self):\n",
      "#         self.items={(1,1):1,(1,2):2,(1,3):3}\n",
      "#     def __getitem__(self,index):\n",
      "#         return self.items[index]\n",
      "#The above self.items show the simple structure where  we can reference the ordered pair\n",
      "# o=Ordered()\n",
      "# print o.items[1,3]\n",
      "# print o[1,3]\n",
      "# a=[2,3,4,5]\n",
      "# a\n",
      "items={(1,1):1,(1,2):2,(1,3):3}\n",
      "print items[1,3]"
     ],
     "language": "python",
     "metadata": {},
     "outputs": [
      {
       "output_type": "stream",
       "stream": "stdout",
       "text": [
        "3\n"
       ]
      }
     ],
     "prompt_number": 9
    },
    {
     "cell_type": "heading",
     "level": 2,
     "metadata": {},
     "source": [
      "Introduction to partial functions:"
     ]
    },
    {
     "cell_type": "heading",
     "level": 4,
     "metadata": {},
     "source": [
      "All thing in python are treated as object"
     ]
    },
    {
     "cell_type": "code",
     "collapsed": false,
     "input": [
      "def add(x,y):\n",
      "    return x+y\n",
      "add.x=2\n",
      "add.y=3\n",
      "print add(add.x,add.y)"
     ],
     "language": "python",
     "metadata": {},
     "outputs": [
      {
       "output_type": "stream",
       "stream": "stdout",
       "text": [
        "5\n"
       ]
      }
     ],
     "prompt_number": 5
    },
    {
     "cell_type": "heading",
     "level": 3,
     "metadata": {},
     "source": [
      "Partial functions:"
     ]
    },
    {
     "cell_type": "code",
     "collapsed": false,
     "input": [
      "def square(a,b):\n",
      "    return a**b\n",
      "from functools import partial\n",
      "p=partial(square,2,2)\n",
      "print p()\n",
      "\n",
      "q=partial(square,2)\n",
      "print q(2)\n",
      "    "
     ],
     "language": "python",
     "metadata": {},
     "outputs": [
      {
       "output_type": "stream",
       "stream": "stdout",
       "text": [
        "4\n",
        "4\n"
       ]
      }
     ],
     "prompt_number": 11
    },
    {
     "cell_type": "markdown",
     "metadata": {},
     "source": [
      "partials functions binds the values to the current scope. On the above example\n",
      "square function takes two arguments namely a,b by creating a paritial function\n",
      "will assign the values of a and b."
     ]
    },
    {
     "cell_type": "code",
     "collapsed": false,
     "input": [
      "from functools import partial\n",
      "def dec(func):\n",
      "    def wrapper(*args,**kwargs):\n",
      "        return partial(func,type=\"post\")\n",
      "    return wrapper()\n",
      "@dec\n",
      "def method(a,type=\"get\"):\n",
      "    return a,type\n",
      "\n",
      "method(2)"
     ],
     "language": "python",
     "metadata": {},
     "outputs": [
      {
       "metadata": {},
       "output_type": "pyout",
       "prompt_number": 26,
       "text": [
        "(2, 'post')"
       ]
      }
     ],
     "prompt_number": 26
    },
    {
     "cell_type": "markdown",
     "metadata": {},
     "source": [
      "On the above example will try to change the varible passed to the function to set the manually defined arguments."
     ]
    },
    {
     "cell_type": "code",
     "collapsed": false,
     "input": [
      "from functools import partial\n",
      "def dec(func,type=\"post\"):\n",
      "    def wrapper(*args,**kwargs):\n",
      "        return partial(func,type=type)\n",
      "    return wrapper()\n",
      "@dec\n",
      "def method(a,type=\"get\"):\n",
      "    return a,type\n",
      "\n",
      "method(2)\n"
     ],
     "language": "python",
     "metadata": {},
     "outputs": [
      {
       "metadata": {},
       "output_type": "pyout",
       "prompt_number": 29,
       "text": [
        "(2, 'post')"
       ]
      }
     ],
     "prompt_number": 29
    },
    {
     "cell_type": "markdown",
     "metadata": {},
     "source": [
      "when you want to convert the dict to json we can use this"
     ]
    },
    {
     "cell_type": "code",
     "collapsed": false,
     "input": [
      "from functools import wraps\n",
      "import json\n",
      "\n",
      "def Json(func,*args,**kwargs):\n",
      "    def inner(*args,**kwargs):\n",
      "        return json.dumps(func(*args,**kwargs))\n",
      "    return inner\n",
      "\n",
      "@Json\n",
      "def resp(name):\n",
      "    return name\n",
      "\n",
      "resp({'name':'hello'})\n"
     ],
     "language": "python",
     "metadata": {},
     "outputs": [
      {
       "metadata": {},
       "output_type": "pyout",
       "prompt_number": 32,
       "text": [
        "'{\"name\": \"hello\"}'"
       ]
      }
     ],
     "prompt_number": 32
    },
    {
     "cell_type": "code",
     "collapsed": false,
     "input": [
      "from functools import wraps,partial\n",
      "\n",
      "def LogIt(logit):\n",
      "    def actualDecorator(test_func):\n",
      "        @wraps(test_func)\n",
      "        def wrapper(*args, **kwargs):\n",
      "            if logit:\n",
      "                print \"executing \",test_func.__name__\n",
      "            return test_func(*args, **kwargs)\n",
      "        return wrapper\n",
      "    return actualDecorator\n",
      "\n",
      "@LogIt(False)\n",
      "def methodone():\n",
      "    return \"hello\"\n",
      "\n",
      "@LogIt(True)\n",
      "def methodtwo():\n",
      "    return \"hellotwo\"\n",
      "\n",
      "\n",
      "print methodtwo()\n",
      "print methodone()"
     ],
     "language": "python",
     "metadata": {},
     "outputs": [
      {
       "output_type": "stream",
       "stream": "stdout",
       "text": [
        "executing  methodtwo\n",
        "hellotwo\n",
        "hello\n"
       ]
      }
     ],
     "prompt_number": 7
    },
    {
     "cell_type": "markdown",
     "metadata": {},
     "source": [
      "The above example shows the working of decoraters with parameters."
     ]
    },
    {
     "cell_type": "code",
     "collapsed": false,
     "input": [
      "def yielders():\n",
      "    yield 1\n",
      "    print \"helloone\"\n",
      "    yield 2\n",
      "    print \"hellotwo\"\n",
      "    yield 3\n",
      "    \n",
      "y=yielders()\n",
      "\n",
      "for i in y:\n",
      "    print i"
     ],
     "language": "python",
     "metadata": {},
     "outputs": [
      {
       "output_type": "stream",
       "stream": "stdout",
       "text": [
        "1\n",
        "helloone\n",
        "2\n",
        "hellotwo\n",
        "3\n"
       ]
      }
     ],
     "prompt_number": 2
    },
    {
     "cell_type": "markdown",
     "metadata": {},
     "source": [
      "yielders are the one which has the capablity to stop the execution at the middle of the routile. documentation of this is taken from cpython they say that the routine becomes static on the register memory available to the process. The way yield works let the user to play with infinite sequence for example pi sequence. "
     ]
    },
    {
     "cell_type": "code",
     "collapsed": false,
     "input": [
      "def get_pi(number):\n",
      "    while True:\n",
      "        yield number\n",
      "        number=number+1\n",
      "    \n",
      "\"\"\"\n",
      "  y(x)=1+1/2+1/3+1/4 ....\n",
      "  y(x)=summation(1/x) where i varies till n\n",
      "\"\"\"\n",
      "\n",
      "\n",
      "def pi_series(till):\n",
      "    sum=0\n",
      "    for i in get_pi(1):\n",
      "        if(i<=till):\n",
      "            sum=float(sum)+float(1/float(i))\n",
      "\n",
      "        else:\n",
      "            return float(sum)\n",
      "pi_series(300)\n"
     ],
     "language": "python",
     "metadata": {},
     "outputs": [
      {
       "metadata": {},
       "output_type": "pyout",
       "prompt_number": 18,
       "text": [
        "6.282663880299502"
       ]
      }
     ],
     "prompt_number": 18
    },
    {
     "cell_type": "markdown",
     "metadata": {},
     "source": [
      "if you just want to kill the memory then go on and do list(get_pi(1)) haha.."
     ]
    },
    {
     "cell_type": "heading",
     "level": 3,
     "metadata": {},
     "source": [
      "Named Tuples:"
     ]
    },
    {
     "cell_type": "code",
     "collapsed": false,
     "input": [
      "import collections\n",
      "tup=collections.namedtuple('Token',['type','value'])\n",
      "tup.type=50\n",
      "tup.value=20"
     ],
     "language": "python",
     "metadata": {},
     "outputs": [
      {
       "output_type": "stream",
       "stream": "stdout",
       "text": [
        "50\n"
       ]
      }
     ],
     "prompt_number": 10
    },
    {
     "cell_type": "markdown",
     "metadata": {},
     "source": [
      "named tuples are similar to objects in javascript as show above."
     ]
    },
    {
     "cell_type": "code",
     "collapsed": false,
     "input": [
      "#pattern matching.\n",
      "\n",
      "import re\n",
      "patten=re.compile(\"\\d+|\\w+|\\s+\")\n",
      "strs=\"hey 0989 twentytwo\"\n",
      "print patten.findall(strs)"
     ],
     "language": "python",
     "metadata": {},
     "outputs": [
      {
       "output_type": "stream",
       "stream": "stdout",
       "text": [
        "['hey', ' ', '0989', ' ', 'twentytwo']\n"
       ]
      }
     ],
     "prompt_number": 14
    },
    {
     "cell_type": "code",
     "collapsed": false,
     "input": [
      "\"\"\"The below example shows the brute force parser of a given arithmatic expression\"\"\"\n",
      "\n",
      "\"\"\"\n",
      " \n",
      " In order to find the multiple patter will combine the string with | at the end \n",
      " and convention like  (?P<Name>patten) is used to assign a name to pattern.\n",
      " \n",
      "\"\"\"\n",
      "import re\n",
      "masterpattern=\"\"\"\n",
      " rbary pirates in the First Barbary War. During the War of 1812 against Great Britain, Constitution captured numerous merchant ships and defeated five British warships; the battle with HMS Guerriere earned her the nickname of \"Old Ironsides\". The frigate continued to serve as flagship in the Mediterranean and African squadrons. During the American Civil War, she served as a training ship for the U.S. Naval Academy. She carried American artwork and industrial displays to the Paris Exposition of 1878. Constitution was retired from active service in 1881 and designated a museum ship in 1907, and continues to receive visitors year round at the former Charlestown Navy Yard. The ship sailed under her own power in 1997 on the occasion of her 200th birthday, and again on 19 August 2012 to commemorate her v\n",
      "\"\"\"\n",
      "\n",
      "def generate_token(patt,mat):\n",
      "    scanner=patt.scanner(mat)\n",
      "    for i in iter(scanner.match):\n",
      "        yield i\n",
      "\n"
     ],
     "language": "python",
     "metadata": {},
     "outputs": [],
     "prompt_number": 14
    },
    {
     "cell_type": "code",
     "collapsed": false,
     "input": [
      "def sqr3(n):\n",
      "    k = 1.0\n",
      "    while((k*k - n) > 0.0000000001 or (n - k * k) > 0.0000000001):\n",
      "        k = (k + n / k) / 2\n",
      "    return k"
     ],
     "language": "python",
     "metadata": {},
     "outputs": [],
     "prompt_number": 14
    },
    {
     "cell_type": "code",
     "collapsed": false,
     "input": [
      "def iget_no_of_instance(ins_obj):\n",
      "    return ins_obj.__class__.no_inst\n",
      " \n",
      "class Kls(object):\n",
      "    no_inst = 0 \n",
      "    def __init__(self):\n",
      "        Kls.no_inst = Kls.no_inst + 1\n",
      " \n",
      "ik1 = Kls()\n",
      "ik2 = Kls()\n",
      "print ik2.no_inst\n",
      "print iget_no_of_instance(ik1)\n",
      "    "
     ],
     "language": "python",
     "metadata": {},
     "outputs": [
      {
       "output_type": "stream",
       "stream": "stdout",
       "text": [
        "2\n",
        "2\n"
       ]
      }
     ],
     "prompt_number": 4
    },
    {
     "cell_type": "markdown",
     "metadata": {},
     "source": [
      "The above variable resembles like static variable for class. which can be accessed through <br> ```<instance>.<propertyname>``` or ```<instance>.__class__.<propertyname>```. <br>\n",
      "More Details can be found in this link. <br>\n",
      "<a href=\"http://www.pythoncentral.io/difference-between-staticmethod-and-classmethod-in-python/\">static and class method</a>"
     ]
    },
    {
     "cell_type": "code",
     "collapsed": false,
     "input": [
      "#class method example\n",
      "class ClassMethod:\n",
      "    a=0\n",
      "    b=3\n",
      "    @classmethod\n",
      "    def printab(cls):\n",
      "        print cls.a,cls.b\n",
      "v=ClassMethod()\n",
      "v.printab()"
     ],
     "language": "python",
     "metadata": {},
     "outputs": [
      {
       "output_type": "stream",
       "stream": "stdout",
       "text": [
        "0 3\n"
       ]
      }
     ],
     "prompt_number": 5
    },
    {
     "cell_type": "code",
     "collapsed": false,
     "input": [
      "class StaticMethod:\n",
      "    a=0\n",
      "    b=0\n",
      "    @staticmethod\n",
      "    def printhello():\n",
      "        print \"hello world\"\n",
      "StaticMethod.printhello()"
     ],
     "language": "python",
     "metadata": {},
     "outputs": [
      {
       "output_type": "stream",
       "stream": "stdout",
       "text": [
        " hello world\n"
       ]
      }
     ],
     "prompt_number": 8
    },
    {
     "cell_type": "code",
     "collapsed": false,
     "input": [
      "class StaticError:\n",
      "   # @staticmethod\n",
      "    def printhello():\n",
      "        print \"hey\"\n",
      "StaticError.printhello()"
     ],
     "language": "python",
     "metadata": {},
     "outputs": [
      {
       "output_type": "stream",
       "stream": "stdout",
       "text": [
        "hey\n"
       ]
      }
     ],
     "prompt_number": 10
    },
    {
     "cell_type": "code",
     "collapsed": false,
     "input": [
      "class Kls(object):\n",
      "    def __init__(self, data):\n",
      "        self.data = data\n",
      " \n",
      "    def printd(self):\n",
      "        print(self.data)\n",
      " \n",
      "    @staticmethod\n",
      "    def smethod(*arg):\n",
      "        print('Static:', arg)\n",
      " \n",
      "    @classmethod\n",
      "    def cmethod(*arg):\n",
      "        print('Class:', arg)\n",
      "        \n",
      "ik = Kls(23)\n",
      "ik.printd()\n",
      "ik.smethod([1,2,3,4,5])\n",
      "ik.cmethod([1,2,2,3,4])\n",
      "            "
     ],
     "language": "python",
     "metadata": {},
     "outputs": [
      {
       "output_type": "stream",
       "stream": "stdout",
       "text": [
        "23\n",
        "('Static:', ([1, 2, 3, 4, 5],))\n",
        "('Class:', (<class '__main__.Kls'>, [1, 2, 2, 3, 4]))\n"
       ]
      }
     ],
     "prompt_number": 18
    },
    {
     "cell_type": "code",
     "collapsed": true,
     "input": [
      "a=[1,2,3,3,3,2,2,2,4,3,1]\n",
      "b=[]\n",
      "[b.append(x) for x in a if(x not in b or x!=b[-1])]\n",
      "print b"
     ],
     "language": "python",
     "metadata": {},
     "outputs": [
      {
       "output_type": "stream",
       "stream": "stdout",
       "text": [
        "[1, 2, 3, 2, 4, 3, 1]\n"
       ]
      }
     ],
     "prompt_number": 4
    },
    {
     "cell_type": "code",
     "collapsed": false,
     "input": [
      "class decoratorWithoutArguments(object):\n",
      "\n",
      "    def __init__(self, f):\n",
      "        \"\"\"\n",
      "        If there are no decorator arguments, the function\n",
      "        to be decorated is passed to the constructor.\n",
      "        \"\"\"\n",
      "        print \"Inside __init__()\"\n",
      "        self.f = f\n",
      "\n",
      "    def __call__(self, *args):\n",
      "        \"\"\"\n",
      "        The __call__ method is not called until the\n",
      "        decorated function is called.\n",
      "        \"\"\"\n",
      "        print \"Inside __call__()\"\n",
      "        self.f(*args)\n",
      "        print \"After self.f(*args)\"\n",
      "\n",
      "@decoratorWithoutArguments\n",
      "def sayHello(a1, a2, a3, a4):\n",
      "    print 'sayHello arguments:', a1, a2, a3, a4\n",
      "\n",
      "\n",
      "sayHello(\"say\", \"hello\", \"argument\", \"list\")"
     ],
     "language": "python",
     "metadata": {},
     "outputs": [
      {
       "output_type": "stream",
       "stream": "stdout",
       "text": [
        "Inside __init__()\n",
        "Inside __call__()\n",
        "sayHello arguments: say hello argument list\n",
        "After self.f(*args)\n"
       ]
      }
     ],
     "prompt_number": 2
    },
    {
     "cell_type": "code",
     "collapsed": false,
     "input": [
      "class decoratorWithArguments(object):\n",
      "\n",
      "    def __init__(self, arg1, arg2, arg3):\n",
      "        \"\"\"\n",
      "        If there are decorator arguments, the function\n",
      "        to be decorated is not passed to the constructor!\n",
      "        \"\"\"\n",
      "        print \"Inside __init__()\"\n",
      "        self.arg1 = arg1\n",
      "        self.arg2 = arg2\n",
      "        self.arg3 = arg3\n",
      "\n",
      "    def __call__(self, f):\n",
      "        \"\"\"\n",
      "        If there are decorator arguments, __call__() is only called\n",
      "        once, as part of the decoration process! You can only give\n",
      "        it a single argument, which is the function object.\n",
      "        \"\"\"\n",
      "        print \"Inside __call__()\"\n",
      "        def wrapped_f(*args):\n",
      "            print \"Inside wrapped_f()\"\n",
      "            print \"Decorator arguments:\", self.arg1, self.arg2, self.arg3\n",
      "            f(*args)\n",
      "            print \"After f(*args)\"\n",
      "        return wrapped_f\n",
      "\n",
      "@decoratorWithArguments(\"hello\", \"world\", 42)\n",
      "def sayHello(a1, a2, a3, a4):\n",
      "    print 'sayHello arguments:', a1, a2, a3, a4\n",
      "\n",
      "print \"After decoration\"\n",
      "\n",
      "print \"Preparing to call sayHello()\"\n",
      "sayHello(\"say\", \"hello\", \"argument\", \"list\")\n",
      "print \"after first sayHello() call\"\n",
      "sayHello(\"a\", \"different\", \"set of\", \"arguments\")\n",
      "print \"after second sayHello() call\""
     ],
     "language": "python",
     "metadata": {},
     "outputs": [
      {
       "output_type": "stream",
       "stream": "stdout",
       "text": [
        "Inside __init__()\n",
        "Inside __call__()\n",
        "After decoration\n",
        "Preparing to call sayHello()\n",
        "Inside wrapped_f()\n",
        "Decorator arguments: hello world 42\n",
        "sayHello arguments: say hello argument list\n",
        "After f(*args)\n",
        "after first sayHello() call\n",
        "Inside wrapped_f()\n",
        "Decorator arguments: hello world 42\n",
        "sayHello arguments: a different set of arguments\n",
        "After f(*args)\n",
        "after second sayHello() call\n"
       ]
      }
     ],
     "prompt_number": 5
    },
    {
     "cell_type": "code",
     "collapsed": false,
     "input": [
      "def decoratorFunctionWithArguments(arg1, arg2, arg3):\n",
      "    def wrap(f):\n",
      "        def wrapped_f(*args):\n",
      "            print \"Decorator arguments:\", arg1, arg2, arg3\n",
      "            f(*args)\n",
      "            print \"After f(*args)\"\n",
      "        return wrapped_f\n",
      "    return wrap\n",
      "\n",
      "@decoratorFunctionWithArguments(\"hello\", \"world\", 42)\n",
      "def sayHello(a1, a2, a3, a4):\n",
      "    print 'sayHello arguments:', a1, a2, a3, a4\n",
      "\n",
      "print \"After decoration\"\n",
      "\n",
      "print \"Preparing to call sayHello()\"\n",
      "sayHello(\"say\", \"hello\", \"argument\", \"list\")\n",
      "print \"after first sayHello() call\"\n",
      "sayHello(\"a\", \"different\", \"set of\", \"arguments\")\n",
      "print \"after second sayHello() call\""
     ],
     "language": "python",
     "metadata": {},
     "outputs": [
      {
       "output_type": "stream",
       "stream": "stdout",
       "text": [
        "Inside wrap()\n",
        "After decoration\n",
        "Preparing to call sayHello()\n",
        "Inside wrapped_f()\n",
        "Decorator arguments: hello world 42\n",
        "sayHello arguments: say hello argument list\n",
        "After f(*args)\n",
        "after first sayHello() call\n",
        "Inside wrapped_f()\n",
        "Decorator arguments: hello world 42\n",
        "sayHello arguments: a different set of arguments\n",
        "After f(*args)\n",
        "after second sayHello() call\n"
       ]
      }
     ],
     "prompt_number": 6
    },
    {
     "cell_type": "code",
     "collapsed": false,
     "input": [
      "def dec(arg1,arg2,arg3):\n",
      "    def wrapped_f(f):\n",
      "        def wrap(*args):\n",
      "            print arg1,arg2,arg3\n",
      "            return f(*args)\n",
      "        return wrap\n",
      "    return wrapped_f\n",
      "    \n",
      "@dec(1,2,3)\n",
      "def method(a,b,c):\n",
      "    return a,b,c\n",
      "\n",
      "print method(1,3,4)\n",
      "type(method)"
     ],
     "language": "python",
     "metadata": {},
     "outputs": [
      {
       "output_type": "stream",
       "stream": "stdout",
       "text": [
        "1 2 3\n",
        "(1, 3, 4)\n"
       ]
      },
      {
       "metadata": {},
       "output_type": "pyout",
       "prompt_number": 19,
       "text": [
        "function"
       ]
      }
     ],
     "prompt_number": 19
    },
    {
     "cell_type": "code",
     "collapsed": false,
     "input": [],
     "language": "python",
     "metadata": {},
     "outputs": []
    }
   ],
   "metadata": {}
  }
 ]
}