{
 "metadata": {
  "name": ""
 },
 "nbformat": 3,
 "nbformat_minor": 0,
 "worksheets": [
  {
   "cells": [
    {
     "cell_type": "heading",
     "level": 3,
     "metadata": {},
     "source": [
      "Shuffling Algorithm:"
     ]
    },
    {
     "cell_type": "code",
     "collapsed": false,
     "input": [
      "import random\n",
      "\n",
      "def swap(deck,i,j):\n",
      "    \"return a swap deck elements\"\n",
      "    deck[i],deck[j]=deck[j],deck[i]\n",
      "\n",
      "\n",
      "def shuffle(string):\n",
      "    \"shuffle the given string\"\n",
      "    N=len(string)\n",
      "    for i in range(N-1):\n",
      "        swap(string,i,random.randrange(i,N))\n",
      "    return string\n",
      "\n",
      "\n",
      "\"\"\"\n",
      "   Shuffle gets equal probablity\n",
      "\"\"\"\n",
      "print shuffle([1,2,3])"
     ],
     "language": "python",
     "metadata": {},
     "outputs": [
      {
       "output_type": "stream",
       "stream": "stdout",
       "text": [
        "[1, 2, 3]\n"
       ]
      }
     ],
     "prompt_number": 1
    },
    {
     "cell_type": "markdown",
     "metadata": {},
     "source": [
      " time to test it!.\n",
      " "
     ]
    },
    {
     "cell_type": "code",
     "collapsed": false,
     "input": [
      "import random\n",
      "\n",
      "def swap(deck,i,j):\n",
      "    \"return a swap deck elements\"\n",
      "    deck[i],deck[j]=deck[j],deck[i]\n",
      "\n",
      "\n",
      "def shuffle(string):\n",
      "    \"shuffle the given string\"\n",
      "    N=len(string)\n",
      "    for i in range(N-1):\n",
      "        swap(string,i,random.randrange(i,N))\n",
      "    return string\n",
      "\n",
      "\"\"\" \n",
      "Let try to attemp this 100 time  and will see the result\n",
      "\n",
      "\"\"\"\n",
      "times=600\n",
      "results=[]\n",
      "for i in range(times):\n",
      "    results.append(shuffle([1,2,3]))\n",
      "\n",
      "a=float(results.count([1,2,3]))/times*100,\"%\"\n",
      "b=float(results.count([1,3,2]))/times*100,\"%\"\n",
      "c=float(results.count([2,1,3]))/times*100,\"%\"\n",
      "d=float(results.count([2,3,1]))/times*100,\"%\"\n",
      "e=float(results.count([3,1,2]))/times*100,\"%\"\n",
      "f=float(results.count([3,2,1]))/times*100,\"%\"\n",
      "\n",
      "print a,b,c,d,e,f\n",
      "\n",
      "\"\"\"\n",
      "total percentage should be 100 for all probalblity to be equal.\n",
      "\"\"\"\n",
      "print a[0]+b[0]+c[0]+d[0]+e[0]+f[0]\n",
      "\n",
      "    "
     ],
     "language": "python",
     "metadata": {},
     "outputs": [
      {
       "output_type": "stream",
       "stream": "stdout",
       "text": [
        "(17.5, '%') (16.333333333333332, '%') (16.333333333333332, '%') (12.166666666666668, '%') (18.333333333333332, '%') (19.333333333333332, '%')\n",
        "100.0\n"
       ]
      }
     ],
     "prompt_number": 38
    },
    {
     "cell_type": "code",
     "collapsed": false,
     "input": [],
     "language": "python",
     "metadata": {},
     "outputs": [],
     "prompt_number": 9
    },
    {
     "cell_type": "code",
     "collapsed": false,
     "input": [],
     "language": "python",
     "metadata": {},
     "outputs": []
    }
   ],
   "metadata": {}
  }
 ]
}