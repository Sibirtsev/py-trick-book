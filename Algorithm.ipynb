{
 "metadata": {
  "name": ""
 },
 "nbformat": 3,
 "nbformat_minor": 0,
 "worksheets": [
  {
   "cells": [
    {
     "cell_type": "heading",
     "level": 3,
     "metadata": {},
     "source": [
      "Shuffling Algorithm:"
     ]
    },
    {
     "cell_type": "code",
     "collapsed": false,
     "input": [
      "import random\n",
      "\n",
      "def swap(deck,i,j):\n",
      "    \"return a swap deck elements\"\n",
      "    deck[i],deck[j]=deck[j],deck[i]\n",
      "\n",
      "\n",
      "def shuffle(string):\n",
      "    \"shuffle the given string\"\n",
      "    N=len(string)\n",
      "    for i in range(N-1):\n",
      "        swap(string,i,random.randrange(i,N))\n",
      "    return string\n",
      "\n",
      "\n",
      "\"\"\"\n",
      "   Shuffle gets equal probablity\n",
      "\"\"\"\n",
      "print shuffle([1,2,3])"
     ],
     "language": "python",
     "metadata": {},
     "outputs": [
      {
       "output_type": "stream",
       "stream": "stdout",
       "text": [
        "[1, 2, 3]\n"
       ]
      }
     ],
     "prompt_number": 1
    },
    {
     "cell_type": "markdown",
     "metadata": {},
     "source": [
      " time to test it!.\n",
      " "
     ]
    },
    {
     "cell_type": "code",
     "collapsed": false,
     "input": [
      "import random\n",
      "\n",
      "def swap(deck,i,j):\n",
      "    \"return a swap deck elements\"\n",
      "    deck[i],deck[j]=deck[j],deck[i]\n",
      "\n",
      "\n",
      "def shuffle(string):\n",
      "    \"shuffle the given string\"\n",
      "    N=len(string)\n",
      "    for i in range(N-1):\n",
      "        swap(string,i,random.randrange(i,N))\n",
      "    return string\n",
      "\n",
      "\"\"\" \n",
      "Let try to attemp this 100 time  and will see the result\n",
      "\n",
      "\"\"\"\n",
      "times=600\n",
      "results=[]\n",
      "for i in range(times):\n",
      "    results.append(shuffle([1,2,3]))\n",
      "\n",
      "a=float(results.count([1,2,3]))/times*100,\"%\"\n",
      "b=float(results.count([1,3,2]))/times*100,\"%\"\n",
      "c=float(results.count([2,1,3]))/times*100,\"%\"\n",
      "d=float(results.count([2,3,1]))/times*100,\"%\"\n",
      "e=float(results.count([3,1,2]))/times*100,\"%\"\n",
      "f=float(results.count([3,2,1]))/times*100,\"%\"\n",
      "\n",
      "print a,b,c,d,e,f\n",
      "\n",
      "\"\"\"\n",
      "total percentage should be 100 for all probalblity to be equal.\n",
      "\"\"\"\n",
      "print a[0]+b[0]+c[0]+d[0]+e[0]+f[0]\n",
      "\n",
      "    "
     ],
     "language": "python",
     "metadata": {},
     "outputs": [
      {
       "output_type": "stream",
       "stream": "stdout",
       "text": [
        "(17.5, '%') (16.333333333333332, '%') (16.333333333333332, '%') (12.166666666666668, '%') (18.333333333333332, '%') (19.333333333333332, '%')\n",
        "100.0\n"
       ]
      }
     ],
     "prompt_number": 38
    },
    {
     "cell_type": "heading",
     "level": 2,
     "metadata": {},
     "source": [
      "Newton Raphson Algorithm:"
     ]
    },
    {
     "cell_type": "code",
     "collapsed": false,
     "input": [
      "#factorial function\n",
      "def factorial(n):\n",
      "    return 1 if n==0 else n*factorial(n-1)\n",
      "\n",
      "factorial(3)"
     ],
     "language": "python",
     "metadata": {},
     "outputs": [
      {
       "metadata": {},
       "output_type": "pyout",
       "prompt_number": 42,
       "text": [
        "6"
       ]
      }
     ],
     "prompt_number": 42
    },
    {
     "cell_type": "code",
     "collapsed": false,
     "input": [
      "def display(p,q):\n",
      "    print(p,q)\n",
      "def returndiagonal(b,cr,cc):\n",
      "        lst =[]\n",
      "        p,d = cr,cr\n",
      "        q,k = cc,cc\n",
      "        for i in range(len(b)):\n",
      "            if p < 2 and q < 2:\n",
      "                lst.append(b[p+1][q+1])\n",
      "                p = p+1\n",
      "                q = q+1\n",
      "        for i in range(len(b)):\n",
      "            if d >0 and k >0:\n",
      "                lst.append(b[d-1][k-1])\n",
      "                d =d-1\n",
      "                k =k-1\n",
      "        p,d = cr,cr\n",
      "        q,k = cc,cc\n",
      "        for i in range(len(b)):\n",
      "            if p>0 and q>0:\n",
      "                lst.append(b[p+1][q-1])\n",
      "                p = p+1\n",
      "                q = q-1\n",
      "        for i in range(len(b)):\n",
      "            if d>0 and k>0:\n",
      "                lst.append(b[d-1][k+1])\n",
      "                d = d-1\n",
      "                k = k+1\n",
      "        return lst\n",
      "\n",
      "a=[[2,3,6]\n",
      "  ,[2,4,7]\n",
      "  ,[3,4,5]]\n",
      "returndiagonal(a,1,1)"
     ],
     "language": "python",
     "metadata": {},
     "outputs": [
      {
       "metadata": {},
       "output_type": "pyout",
       "prompt_number": 14,
       "text": [
        "[5, 2, 3, 6]"
       ]
      }
     ],
     "prompt_number": 14
    },
    {
     "cell_type": "code",
     "collapsed": false,
     "input": [
      "a=[1,2,3,4]\n",
      "[x for x,y in exn]"
     ],
     "language": "python",
     "metadata": {},
     "outputs": [
      {
       "metadata": {},
       "output_type": "pyout",
       "prompt_number": 11,
       "text": [
        "[0, 1, 2, 3]"
       ]
      }
     ],
     "prompt_number": 11
    },
    {
     "cell_type": "code",
     "collapsed": false,
     "input": [
      "\"\"\"\n",
      "Solution for nq problem for n*n boards\n",
      "\"\"\"\n",
      "\n",
      "def createBoard(row,col):\n",
      "\treturn [[0 for x in range(row)] for y in range(col)]\n",
      "\t\n",
      "def returndiagonal(b,cr,cc):\n",
      "        lst =[]\n",
      "        p,d = cr,cr\n",
      "        q,k = cc,cc\n",
      "        for i in range(len(b)):\n",
      "            if p < max_row_val-1 and q < max_col_val-1:\n",
      "                lst.append(b[p+1][q+1])\n",
      "                p = p+1\n",
      "                q = q+1\n",
      "        for i in range(len(b)):\n",
      "            if d >0 and k >0:\n",
      "                lst.append(b[d-1][k-1])\n",
      "                d =d-1\n",
      "                k =k-1\n",
      "        p,d = cr,cr\n",
      "        q,k = cc,cc\n",
      "        for i in range(len(b)):\n",
      "            if p<max_row_val-1 and q>0:\n",
      "                lst.append(b[p+1][q-1])\n",
      "                p = p+1\n",
      "                q = q-1\n",
      "        for i in range(len(b)):\n",
      "            if d>0 and k< max_col_val-1:\n",
      "                lst.append(b[d-1][k+1])\n",
      "                d = d-1\n",
      "                k = k+1   \n",
      "        return lst\n",
      "\n",
      "def place(b,row,col):\n",
      "        if 1 in b[row] or 1 in [e[col] for e in b] or 1 in returndiagonal(b,row,col):\n",
      "            return False\n",
      "        return True\n",
      "\n",
      "#it is a recursive solution method\n",
      "#each and every time a new instance of the problem will be created.\n",
      "def backtrack(b,i):\n",
      "    if i>= max_row_val:\n",
      "        return True\n",
      "    for c in range(max_col_val):\n",
      "        if place(b,c,i):\n",
      "            b[c][i]=1\n",
      "            if(backtrack(b,i+1)):\n",
      "                return True\n",
      "            b[c][i]=0\n",
      "    return False\n",
      "        \n",
      "    \n",
      "\n",
      "def solve(b):\n",
      "\tfor i in range(max_row_val):\n",
      "\t\tbacktrack(b,i)\n",
      "\t\n",
      "\t\n",
      "\n",
      "max_row_val=4\n",
      "max_col_val=4\n",
      "b = createBoard(max_row_val,max_col_val)\n",
      "solve(b)\n",
      "print b\n",
      "\n",
      "\n",
      "\n",
      "\n"
     ],
     "language": "python",
     "metadata": {},
     "outputs": [
      {
       "output_type": "stream",
       "stream": "stdout",
       "text": [
        "[[0, 0, 1, 0], [1, 0, 0, 0], [0, 0, 0, 1], [0, 1, 0, 0]]\n"
       ]
      }
     ],
     "prompt_number": 5
    },
    {
     "cell_type": "code",
     "collapsed": false,
     "input": [
      "def fact(n):\n",
      "    if n is 0 or n is 1:\n",
      "        return 1\n",
      "    else:\n",
      "        return n* fact(n-1)\n",
      "\n",
      "def fibo(n):\n",
      "    if n is 0:\n",
      "        return 0\n",
      "    if n is 1:\n",
      "        return 1\n",
      "    else:\n",
      "        return fibo(n-1) + fibo(n-2)\n",
      "    \n",
      "#def fibo with dynamic programming\n",
      "dyn = {0:0,1:1}\n",
      "def fibdyn(n):\n",
      "    if n is 0:\n",
      "        return dyn[0] if dyn[0] else 0\n",
      "    if n is 1:\n",
      "        return dyn[1] if dyn[1] else 1\n",
      "    else:\n",
      "        if not dyn.get(n):\n",
      "            dyn[n] = fibdyn(n-1) + fibdyn(n-2)\n",
      "            return dyn[n]\n",
      "        else:\n",
      "            return dyn[n]\n",
      "    \n",
      "\n",
      "%timeit fibdyn(20)\n",
      "%timeit fibo(20)\n",
      "\n",
      "#if you run the above program the speed gain for the loop will be considerable.\n",
      "\n",
      "# 1000000 loops, best of 3: 302 ns per loop  for dynamic programming\n",
      "# 10000 loops, best of 3: 30.8 \u00b5s per loop for normal fibonacci\n",
      "\n",
      "# its around 30800/302  times faster\n"
     ],
     "language": "python",
     "metadata": {},
     "outputs": [
      {
       "output_type": "stream",
       "stream": "stdout",
       "text": [
        "1000000 loops, best of 3: 320 ns per loop\n",
        "100 loops, best of 3: 3.73 ms per loop"
       ]
      },
      {
       "output_type": "stream",
       "stream": "stdout",
       "text": [
        "\n"
       ]
      }
     ],
     "prompt_number": 2
    },
    {
     "cell_type": "code",
     "collapsed": false,
     "input": [
      "class hello:\n",
      "    a=3\n",
      "    b=4\n",
      "\n",
      "h = hello()\n",
      "hello.__name__\n",
      "\n",
      "isinstance(h,hello)"
     ],
     "language": "python",
     "metadata": {},
     "outputs": [
      {
       "metadata": {},
       "output_type": "pyout",
       "prompt_number": 5,
       "text": [
        "True"
       ]
      }
     ],
     "prompt_number": 5
    },
    {
     "cell_type": "code",
     "collapsed": false,
     "input": [],
     "language": "python",
     "metadata": {},
     "outputs": []
    }
   ],
   "metadata": {}
  }
 ]
}